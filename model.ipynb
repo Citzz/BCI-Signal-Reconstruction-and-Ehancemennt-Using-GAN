{
  "nbformat": 4,
  "nbformat_minor": 0,
  "metadata": {
    "colab": {
      "provenance": [],
      "mount_file_id": "1jCv3Ow47RuYgSuUyvkonBLE4H6zSEnH1",
      "authorship_tag": "ABX9TyPkYPo2dKXMAzpzWG6Ox/1n",
      "include_colab_link": true
    },
    "kernelspec": {
      "name": "python3",
      "display_name": "Python 3"
    },
    "language_info": {
      "name": "python"
    }
  },
  "cells": [
    {
      "cell_type": "markdown",
      "metadata": {
        "id": "view-in-github",
        "colab_type": "text"
      },
      "source": [
        "<a href=\"https://colab.research.google.com/github/Citzz/BCI-Signal-Reconstruction-and-Ehancemennt-Using-GAN/blob/main/model.ipynb\" target=\"_parent\"><img src=\"https://colab.research.google.com/assets/colab-badge.svg\" alt=\"Open In Colab\"/></a>"
      ]
    },
    {
      "cell_type": "code",
      "execution_count": null,
      "metadata": {
        "id": "7XpLSKy6-sUm"
      },
      "outputs": [],
      "source": [
        "!unzip"
      ]
    }
  ]
}